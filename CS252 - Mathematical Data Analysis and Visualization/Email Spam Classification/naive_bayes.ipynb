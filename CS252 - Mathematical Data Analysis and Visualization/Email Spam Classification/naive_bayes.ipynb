{
 "cells": [
  {
   "cell_type": "markdown",
   "metadata": {},
   "source": [
    "**Samuel Munoz**\n",
    "\n",
    "Spring 2021\n",
    "\n",
    "CS 251: Data Analysis and Visualization\n",
    "\n",
    "Project 6: Supervised learning"
   ]
  },
  {
   "cell_type": "code",
   "execution_count": 1,
   "metadata": {},
   "outputs": [],
   "source": [
    "import os\n",
    "import random\n",
    "import numpy as np\n",
    "import matplotlib.pyplot as plt\n",
    "import pandas as pd\n",
    "\n",
    "plt.style.use(['seaborn-colorblind', 'seaborn-darkgrid'])\n",
    "plt.rcParams.update({'font.size': 20})\n",
    "\n",
    "np.set_printoptions(suppress=True, precision=5)\n",
    "\n",
    "# Automatically reload external modules\n",
    "%load_ext autoreload\n",
    "%autoreload 2"
   ]
  },
  {
   "cell_type": "markdown",
   "metadata": {},
   "source": [
    "## Task 3: Preprocess full spam email dataset \n",
    "\n",
    "Before you build a Naive Bayes spam email classifier, run the full spam email dataset through your preprocessing code.\n",
    "\n",
    "Download and extract the full **Enron** emails (*zip file should be ~29MB large*). You should see a base `enron` folder, with `spam` and `ham` subfolders when you extract the zip file (these are the 2 classes).\n",
    "\n",
    "Run the test code below to check everything over."
   ]
  },
  {
   "cell_type": "markdown",
   "metadata": {},
   "source": [
    "### 3a) Preprocess dataset"
   ]
  },
  {
   "cell_type": "code",
   "execution_count": 2,
   "metadata": {},
   "outputs": [],
   "source": [
    "import email_preprocessor as epp"
   ]
  },
  {
   "cell_type": "markdown",
   "metadata": {},
   "source": [
    "#### Test `count_words` and `find_top_words`"
   ]
  },
  {
   "cell_type": "code",
   "execution_count": 44,
   "metadata": {},
   "outputs": [],
   "source": [
    "word_freq, num_emails = epp.count_words()"
   ]
  },
  {
   "cell_type": "code",
   "execution_count": 4,
   "metadata": {},
   "outputs": [
    {
     "name": "stdout",
     "output_type": "stream",
     "text": [
      "You found 32625 emails in the datset. You should have found 32625.\n"
     ]
    }
   ],
   "source": [
    "print(f'You found {num_emails} emails in the datset. You should have found 32625.')"
   ]
  },
  {
   "cell_type": "code",
   "execution_count": 45,
   "metadata": {},
   "outputs": [
    {
     "name": "stdout",
     "output_type": "stream",
     "text": [
      "Your top 5 words are\n",
      "['the', 'to', 'and', 'of', 'a']\n",
      "and they should be\n",
      "['the', 'to', 'and', 'of', 'a']\n",
      "The associated counts are\n",
      "[277459, 203659, 148873, 139578, 111796]\n",
      "and they should be\n",
      "[277459, 203659, 148873, 139578, 111796]\n"
     ]
    }
   ],
   "source": [
    "top_words, top_counts = epp.find_top_words(word_freq)\n",
    "print(f\"Your top 5 words are\\n{top_words[:5]}\\nand they should be\\n['the', 'to', 'and', 'of', 'a']\")\n",
    "print(f\"The associated counts are\\n{top_counts[:5]}\\nand they should be\\n[277459, 203659, 148873, 139578, 111796]\")"
   ]
  },
  {
   "cell_type": "markdown",
   "metadata": {},
   "source": [
    "### 3b) Make train and test splits of the dataset\n",
    "\n",
    "Here we divide the email features into a 80/20 train/test split (80% of data used to train the supervised learning model, 20% we withhold and use for testing / prediction)."
   ]
  },
  {
   "cell_type": "code",
   "execution_count": 46,
   "metadata": {},
   "outputs": [],
   "source": [
    "features, y = epp.make_feature_vectors(top_words, num_emails)"
   ]
  },
  {
   "cell_type": "code",
   "execution_count": 47,
   "metadata": {},
   "outputs": [],
   "source": [
    "np.random.seed(0)\n",
    "x_train, y_train, inds_train, x_test, y_test, inds_test = epp.make_train_test_sets(features, y)"
   ]
  },
  {
   "cell_type": "code",
   "execution_count": 8,
   "metadata": {},
   "outputs": [
    {
     "name": "stdout",
     "output_type": "stream",
     "text": [
      "Shapes for train/test splits:\n",
      "Train (26100, 200), classes (26100,)\n",
      "Test (6525, 200), classes (6525,)\n",
      "\n",
      "They should be:\n",
      "Train (26100, 200), classes (26100,)\n",
      "Test (6525, 200), classes (6525,)\n"
     ]
    }
   ],
   "source": [
    "print('Shapes for train/test splits:')\n",
    "print(f'Train {x_train.shape}, classes {y_train.shape}')\n",
    "print(f'Test {x_test.shape}, classes {y_test.shape}')\n",
    "print('\\nThey should be:\\nTrain (26100, 200), classes (26100,)\\nTest (6525, 200), classes (6525,)')"
   ]
  },
  {
   "cell_type": "markdown",
   "metadata": {},
   "source": [
    "### 3c) Save data in binary format\n",
    "\n",
    "It adds a lot of overhead to have to run through your raw email -> train/test feature split every time you wanted to work on your project! In this step, you will export the data in memory to disk in a binary format. That way, you can quickly load all the data back into memory (directly in ndarray format) whenever you want to work with it again. No need to parse from text files!\n",
    "\n",
    "- Use numpy's `save` function to make six files in `.npy` format (e.g. `email_train_x.npy`, `email_train_y.npy`, `email_train_inds.npy`, `email_test_x.npy`, `email_test_y.npy`, `email_test_inds.npy`)."
   ]
  },
  {
   "cell_type": "code",
   "execution_count": 48,
   "metadata": {},
   "outputs": [],
   "source": [
    "# store all trainiing and testing data sets into files\n",
    "# root directory of file\n",
    "root_filepath = \"data/subdata\"\n",
    "np.save(root_filepath + \"/email_train_x.npy\", x_train)\n",
    "np.save(root_filepath + \"/email_train_y.npy\", y_train)\n",
    "np.save(root_filepath + \"/email_train_inds.npy\", inds_train)\n",
    "np.save(root_filepath + \"/email_test_x.npy\", x_test)\n",
    "np.save(root_filepath + \"/email_test_y.npy\", y_test)\n",
    "np.save(root_filepath + \"/email_test_inds.npy\", inds_test)"
   ]
  },
  {
   "cell_type": "markdown",
   "metadata": {},
   "source": [
    "## Task 4: Naive Bayes Classifier\n",
    "\n",
    "After finishing your email preprocessing pipeline, implement the one other supervised learning algorithm we we will use to classify email, **Naive Bayes**."
   ]
  },
  {
   "cell_type": "markdown",
   "metadata": {},
   "source": [
    "### 4a) Implement Naive Bayes\n",
    "\n",
    "In `naive_bayes.py`, implement the following methods:\n",
    "- Constructor\n",
    "- `train(data, y)`: Train the Naive Bayes classifier so that it records the \"statistics\" of the training set: class priors (i.e. how likely an email is in the training set to be spam or ham?) and the class likelihoods (the probability of a word appearing in each class — spam or ham).\n",
    "- `predict(data)`: Combine the class likelihoods and priors to compute the posterior distribution. The predicted class for a test sample is the class that yields the highest posterior probability.\n",
    "- `accuracy(y, y_pred)`: The usual definition :)\n",
    "\n",
    "\n",
    "#### Bayes rule ingredients: Priors and likelihood (`train`)\n",
    "\n",
    "To compute class predictions (probability that a test example belong to either spam or ham classes), we need to evaluate **Bayes Rule**. This means computing the priors and likelihoods based on the training data.\n",
    "\n",
    "**Prior:** $$P_c = \\frac{N_c}{N}$$ where $P_c$ is the prior for class $c$ (spam or ham), $N_c$ is the number of training samples that belong to class $c$ and $N$ is the total number of training samples.\n",
    "\n",
    "**Likelihood:** $$L_{c,w} = \\frac{N_{c,w} + 1}{N_{c} + M}$$ where\n",
    "- $L_{c,w}$ is the likelihood that word $w$ belongs to class $c$ (*i.e. what we are solving for*)\n",
    "- $N_{c,w}$ is the total count of **word $w$** in emails that are only in class $c$ (*either spam or ham*)\n",
    "- $N_{c}$ is the total number of **all words** that appear in emails of the class $c$ (*total number of words in all spam emails or total number of words in all ham emails*)\n",
    "- $M$ is the number of features (*number of top words*).\n",
    "\n",
    "#### Bayes rule ingredients: Posterior (`predict`)\n",
    "\n",
    "To make predictions, we now combine the prior and likelihood to get the posterior:\n",
    "\n",
    "**Log Posterior:** $$Log(\\text{Post}_{i, c}) = Log(P_c) + \\sum_{j \\in J_i}x_{i,j}Log(L_{c,j})$$\n",
    "\n",
    " where\n",
    "- $\\text{Post}_{i,c}$ is the posterior for class $c$ for test sample $i$(*i.e. evidence that email $i$ is spam or ham*). We solve for its logarithm.\n",
    "- $Log(P_c)$ is the logarithm of the prior for class $c$.\n",
    "- $x_{i,j}$ is the number of times the jth word appears in the ith email.\n",
    "- $Log(L_{c,j})$: is the log-likelihood of the jth word in class $c$."
   ]
  },
  {
   "cell_type": "code",
   "execution_count": 10,
   "metadata": {},
   "outputs": [],
   "source": [
    "from naive_bayes_multinomial import NaiveBayes"
   ]
  },
  {
   "cell_type": "markdown",
   "metadata": {},
   "source": [
    "#### Test `train`"
   ]
  },
  {
   "cell_type": "code",
   "execution_count": 11,
   "metadata": {},
   "outputs": [
    {
     "name": "stdout",
     "output_type": "stream",
     "text": [
      "Your class priors are: [0.24 0.26 0.25 0.25]\n",
      "and should be          [0.24 0.26 0.25 0.25].\n",
      "Your class likelihoods shape is (4, 6) and should be (4, 6).\n",
      "Your likelihoods are:\n",
      "[[0.15116 0.18497 0.17571 0.1463  0.16813 0.17374]\n",
      " [0.16695 0.17437 0.15742 0.16887 0.15677 0.17562]\n",
      " [0.14116 0.1562  0.19651 0.17046 0.17951 0.15617]\n",
      " [0.18677 0.18231 0.15884 0.12265 0.16755 0.18187]]\n",
      "and should be\n",
      "[[0.15116 0.18497 0.17571 0.1463  0.16813 0.17374]\n",
      " [0.16695 0.17437 0.15742 0.16887 0.15677 0.17562]\n",
      " [0.14116 0.1562  0.19651 0.17046 0.17951 0.15617]\n",
      " [0.18677 0.18231 0.15884 0.12265 0.16755 0.18187]]\n"
     ]
    }
   ],
   "source": [
    "num_test_classes = 4\n",
    "np.random.seed(0)\n",
    "data_test = np.random.random(size=(100, 6))\n",
    "y_test = np.random.randint(low=0, high=num_test_classes, size=(100,))\n",
    "\n",
    "nbc = NaiveBayes(num_classes=num_test_classes)\n",
    "nbc.train(data_test, y_test)\n",
    "\n",
    "print(f'Your class priors are: {nbc.class_priors}\\nand should be          [0.24 0.26 0.25 0.25].')\n",
    "print(f'Your class likelihoods shape is {nbc.class_likelihoods.shape} and should be (4, 6).')\n",
    "print(f'Your likelihoods are:\\n{nbc.class_likelihoods}')\n",
    "\n",
    "\n",
    "test_likelihoods = np.array([[0.15116, 0.18497, 0.17571, 0.1463 , 0.16813, 0.17374],\n",
    "       [0.16695, 0.17437, 0.15742, 0.16887, 0.15677, 0.17562],\n",
    "       [0.14116, 0.1562 , 0.19651, 0.17046, 0.17951, 0.15617],\n",
    "       [0.18677, 0.18231, 0.15884, 0.12265, 0.16755, 0.18187]])\n",
    "print(f'and should be\\n{test_likelihoods}')"
   ]
  },
  {
   "cell_type": "markdown",
   "metadata": {},
   "source": [
    "#### Test `predict`"
   ]
  },
  {
   "cell_type": "code",
   "execution_count": 12,
   "metadata": {},
   "outputs": [
    {
     "name": "stdout",
     "output_type": "stream",
     "text": [
      "Your predicted classes are\n",
      "[3 0 3 1 0 1 1 3 0 3 0 2 0 2 1]\n",
      "and should be\n",
      "[3 0 3 1 0 1 1 3 0 3 0 2 0 2 1]\n"
     ]
    }
   ],
   "source": [
    "num_test_classes = 4\n",
    "np.random.seed(0)\n",
    "data_train = np.random.randint(low=0, high=num_test_classes, size=(100, 10))\n",
    "data_test = np.random.randint(low=0, high=num_test_classes, size=(15, 10))\n",
    "y_test = np.random.randint(low=0, high=num_test_classes, size=(100,))\n",
    "\n",
    "nbc = NaiveBayes(num_classes=num_test_classes)\n",
    "nbc.train(data_train, y_test)\n",
    "test_y_pred = nbc.predict(data_test)\n",
    "\n",
    "print(f'Your predicted classes are\\n{test_y_pred}\\nand should be\\n[3 0 3 1 0 1 1 3 0 3 0 2 0 2 1]')"
   ]
  },
  {
   "cell_type": "markdown",
   "metadata": {},
   "source": [
    "### 4b) Spam filtering\n",
    "\n",
    "Let's start classifying spam email using the Naive Bayes classifier.\n",
    "\n",
    "- Use `np.load` to load in the train/test split that you created last week.\n",
    "- Use your Naive Bayes classifier on the Enron email dataset!"
   ]
  },
  {
   "cell_type": "markdown",
   "metadata": {},
   "source": [
    "**Question 7:** Print out the accuracy that you get on the test set with Naive Bayes. It should be roughly 89%."
   ]
  },
  {
   "cell_type": "code",
   "execution_count": 13,
   "metadata": {},
   "outputs": [],
   "source": [
    "import email_preprocessor as ep"
   ]
  },
  {
   "cell_type": "code",
   "execution_count": 49,
   "metadata": {},
   "outputs": [],
   "source": [
    "# load in train and test split created\n",
    "x_train = np.load(\"data/subdata/email_train_x.npy\")\n",
    "y_train = np.load(\"data/subdata/email_train_y.npy\")\n",
    "inds_train = np.load(\"data/subdata/email_train_inds.npy\")\n",
    "x_test = np.load(\"data/subdata/email_test_x.npy\")\n",
    "y_test = np.load(\"data/subdata/email_test_y.npy\")\n",
    "inds_test = np.load(\"data/subdata/email_test_inds.npy\")"
   ]
  },
  {
   "cell_type": "code",
   "execution_count": 39,
   "metadata": {},
   "outputs": [
    {
     "name": "stdout",
     "output_type": "stream",
     "text": [
      "Accuracy: 0.8993103448275862\n"
     ]
    }
   ],
   "source": [
    "# train and predict\n",
    "classifier = NaiveBayes(2)\n",
    "classifier.train(x_train, y_train)\n",
    "pred = classifier.predict(x_test)\n",
    "\n",
    "# check accuracy\n",
    "print(f\"Accuracy: {classifier.accuracy(y_test, pred)}\")"
   ]
  },
  {
   "cell_type": "markdown",
   "metadata": {},
   "source": [
    "### 4c) Confusion matrix\n",
    "\n",
    "To get a better sense of the errors that the Naive Bayes classifer makes, you will create a confusion matrix. \n",
    "\n",
    "- Implement `confusion_matrix` in `naive_bayes.py`.\n",
    "- Print out a confusion matrix of the spam classification results.\n",
    "\n",
    "**Debugging guidelines**:\n",
    "1. The sum of all numbers in your 2x2 confusion matrix should equal the number of test samples (6525).\n",
    "2. The sum of your spam row should equal the number of spam samples in the test set (3193)\n",
    "3. The sum of your ham row should equal the number of spam samples in the test set (3332)"
   ]
  },
  {
   "cell_type": "code",
   "execution_count": 57,
   "metadata": {},
   "outputs": [
    {
     "name": "stdout",
     "output_type": "stream",
     "text": [
      "Accuracy: 0.8993103448275862\n",
      "[[3072.  172.]\n",
      " [ 485. 2796.]]\n",
      "\n",
      "# of Ham Emails: 3244\n",
      "# of Spam Emails: 3281\n",
      "\n",
      "Row sums: [3244. 3281.]\n",
      "Total sum: 6525.0\n",
      "Time taken: 5.527576923370361\n"
     ]
    }
   ],
   "source": [
    "import time\n",
    "t0 = time.time()\n",
    "\n",
    "#### ADDED IN FOR FAIR COMPARSION LATTER IN NOTEBOOK\n",
    "# train and predict\n",
    "classifier = NaiveBayes(2)\n",
    "classifier.train(x_train, y_train)\n",
    "pred = classifier.predict(x_test)\n",
    "\n",
    "# check accuracy\n",
    "print(f\"Accuracy: {classifier.accuracy(y_test, pred)}\")\n",
    "#####################################################\n",
    "\n",
    "\n",
    "# print confusion matrix\n",
    "conf_matrix = classifier.confusion_matrix(y_test, pred)\n",
    "print(conf_matrix)\n",
    "\n",
    "print(f\"\\n# of Ham Emails: {y_test[y_test == 0].size}\")\n",
    "print(f\"# of Spam Emails: {y_test[y_test == 1].size}\\n\")\n",
    "\n",
    "print(f\"Row sums: {np.sum(conf_matrix, axis=1)}\")\n",
    "print(f\"Total sum: {np.sum(conf_matrix)}\")\n",
    "\n",
    "t1 = time.time()\n",
    "print(f\"Time taken: {t1 -t0}\")"
   ]
  },
  {
   "cell_type": "markdown",
   "metadata": {},
   "source": [
    "**Question 8:** Interpret the confusion matrix, using the convention that positive detection means spam (*e.g. a false positive means classifying a ham email as spam*). What types of errors are made more frequently by the classifier? What does this mean (*i.e. X (spam/ham) is more likely to be classified than Y (spam/ham) than the other way around*)?\n",
    "\n",
    "**Reminder:** Look back and make sure you are clear on which class indices correspond to spam/ham."
   ]
  },
  {
   "cell_type": "markdown",
   "metadata": {},
   "source": [
    "**Answer 8:** In the confusion matrix above, the first row represent the actual negative detections and the second row represents the acutal positive detections. The first column represents the emails predicted negative detection and the second column represents the predicted positive detection. The entry in the top left corner shows the number of negative detections that were predicted as negative detections (ham emails predicted as ham). The entry in the top right corner shows the number of negative detections that were incorrectly predicted as positive detections (ham emails predicted as spam emails). These are the number of false positives in my model. The entry in the bottom left corner are the positive detections predicted to be negative detections (number of spam emails predicted as ham emails). These are the number of false negatives in my model. Lastly, the entry in the bottom right corner are all positive detections predicted as positive detections (number of spam email predicted to be spam emails).\n",
    "\n",
    "It was more common to have false negatives than false positive because the number in the bottom right corner is greater than the number in the top right corner. This would imply that if someone used this algorithm to filter out ham and spam emails, there would be more spam emails making into this person's inbox than the number of real emails being marked as spam."
   ]
  },
  {
   "cell_type": "markdown",
   "metadata": {},
   "source": [
    "### 4d) Investigate the misclassification errors\n",
    "\n",
    "Numbers are nice, but they may not the best for developing your intuition. Sometimes, you want to see what an misclassification *actually looks like* to help you improve your algorithm. Here, you will take a false positive and a false negative misclassification and retrieve the actual text of the email so see which emails produced the error.\n",
    "\n",
    "- Determine the index of the **FIRST** false positive and false negative misclassification — i.e. 2 indices in total. Remember to use your `test_inds` array to look up the index of the emails BEFORE shuffling happened.\n",
    "- Implement the function `retrieve_emails` in `email_preprocessor.py` to return the string of the raw email at the error indices.\n",
    "- Call your function to print out the two emails that produced misclassifications."
   ]
  },
  {
   "cell_type": "markdown",
   "metadata": {},
   "source": [
    "**Question 9:** Does it seem reasonable that each email message was misclassified? Why?"
   ]
  },
  {
   "cell_type": "markdown",
   "metadata": {},
   "source": [
    "**Answer 9:** I think the emails were reasonable misclassified. For the false positive, this appears to be reminder to some one that there was some meeting. This information is stored in the subject line, which isn't going to be too long in comparsion with the rest of the email. The rest email contains contact information. I believe that this contact information caused the error because I would expect spam email to be littered with spam email and that would make this email have more similarities to spam emails.\n",
    "\n",
    "The false negative makes sense since this is an email about some amazon order. At first glance, this is a long email refunding the client their money. I thought this email was not spam myself until I check the actual class of the email. The class is spam. Therefore, I assume that maybe emails from amazon.com were not suppose to sent to the user's email or this email could be potentially be bogus amazon.com email. Regardless, if I having issues seeing that this email is false, then it makes sense for the algorithm to make that mistake."
   ]
  },
  {
   "cell_type": "code",
   "execution_count": 56,
   "metadata": {},
   "outputs": [
    {
     "name": "stdout",
     "output_type": "stream",
     "text": [
      "False positive: y_test: 0.0; pred: 1\n",
      "False negative: y_test: 1.0; pred: 0\n",
      "\n",
      "False Positive:\n",
      " Subject: enron corp . board of directors meeting - october 9 , 2001\n",
      "kelly m . johnson\n",
      "executive assistant\n",
      "enron corp .\n",
      "tel : 713 - 853 - 6485\n",
      "fax : 713 - 853 - 2534\n",
      "e - mail : kelly . johnson @ enron . com\n",
      "\n",
      "False Negative:\n",
      " Subject: your amazon . com order ( # 104 - 9670681 - 0325567 )\n",
      "hello from amazon . com .\n",
      "we ' re writing to confirm that we have processed your refund for\n",
      "$ 18 . 00 for the above - referenced order .\n",
      "this amount should appear as a credit on your next credit card statement .\n",
      "for more information about this refund , please visit your account\n",
      "( http : / / www . amazon . com / your - account ) to view the above - referenced order .\n",
      "completed returns and refunds will appear at the bottom of the order\n",
      "summary page .\n",
      "we hope that this is a satisfactory resolution for you .\n",
      "if you have any questions , please contact us via e - mail , fax , or\n",
      "phone :\n",
      "e - mail : orders @ amazon . com\n",
      "fax : 1 - 206 - 266 - 2950\n",
      "phone : 1 - 800 - 201 - 7575 for us customers\n",
      "1 - 206 - 266 - 2992 for international customers\n",
      "thank you for shopping at amazon . com .\n",
      "amazon . com\n",
      "earth ' s biggest selection\n",
      "info @ amazon . com http : / / www . amazon . com /\n",
      "\n"
     ]
    }
   ],
   "source": [
    "# compare classes\n",
    "compare = y_test - pred\n",
    "\n",
    "# if false positive: then y_test[i] = 0 and pred = 1. Therefore, compare[i] = -1; \n",
    "# these are the minimum value of the list\n",
    "fp = np.where(compare == -1)[0]\n",
    "\n",
    "# if false negative: then y_test[i] = 1 and pred = 0. Therefore, compare[i] = 1; \n",
    "# these are the maximum value of the list\n",
    "fn = np.where(compare == 1)[0]\n",
    "\n",
    "# pull first index in list and place them into an ndarray to run retrieve emails function\n",
    "inds = np.array([fp[0], fn[0]])\n",
    "\n",
    "emails = ep.retrieve_emails(inds)\n",
    "\n",
    "# verify correctness of algorithm\n",
    "print(f\"False positive: y_test: {y_test[inds[0]]}; pred: {pred[inds[0]]}\")\n",
    "print(f\"False negative: y_test: {y_test[inds[1]]}; pred: {pred[inds[1]]}\")\n",
    "\n",
    "# print emails\n",
    "print(\"\\nFalse Positive:\\n\", emails[0])\n",
    "print(\"\\nFalse Negative:\\n\", emails[1])"
   ]
  },
  {
   "cell_type": "markdown",
   "metadata": {},
   "source": [
    "## Task 5: Comparison with KNN\n",
    "\n",
    "\n",
    "- Run a similar analysis to what you did with Naive Bayes above. When computing accuracy on the test set, you may want to reduce the size of the test set (e.g. to the first 500 emails in the test set).\n",
    "- Copy-paste your `confusion_matrix` method into `knn.py` so that you can run the same analysis on a KNN classifier."
   ]
  },
  {
   "cell_type": "code",
   "execution_count": 18,
   "metadata": {},
   "outputs": [],
   "source": [
    "from knn import KNN"
   ]
  },
  {
   "cell_type": "code",
   "execution_count": 19,
   "metadata": {},
   "outputs": [
    {
     "name": "stdout",
     "output_type": "stream",
     "text": [
      "Accuracy: 0.92\n",
      "[[3083.  161.]\n",
      " [ 371. 2910.]]\n",
      "Time taken: 372.0993673801422\n"
     ]
    }
   ],
   "source": [
    "import time\n",
    "t0 = time.time()\n",
    "\n",
    "# train data\n",
    "classifier = KNN(2)\n",
    "classifier.train(x_train, y_train)\n",
    "\n",
    "# get predictions\n",
    "pred = classifier.predict(x_test, 5)\n",
    "\n",
    "# compute and print accuracy with first 500 samples\n",
    "print(f\"Accuracy: {classifier.accuracy(y_test[:500], pred[:500])}\")\n",
    "\n",
    "# compute confusion matrix on first 500 samples\n",
    "c_matrix = classifier.confusion_matrix(y_test, pred) \n",
    "print(c_matrix)\n",
    "\n",
    "t1 = time.time()\n",
    "print(f\"Time taken: {t1 -t0}\")"
   ]
  },
  {
   "cell_type": "markdown",
   "metadata": {},
   "source": [
    "**Question 10:** What accuracy did you get on the test set (potentially reduced in size)?\n",
    "\n",
    "**Question 11:** How does the confusion matrix compare to that obtained by Naive Bayes (*If you reduced the test set size, keep that in mind*)?\n",
    "\n",
    "**Question 12:** Briefly describe at least one pro/con of KNN compared to Naive Bayes on this dataset.\n",
    "\n",
    "**Question 13:** When potentially reducing the size of the test set here, why is it important that we shuffled our train and test set?"
   ]
  },
  {
   "cell_type": "markdown",
   "metadata": {},
   "source": [
    "**Answer 10:** I got a 92% accuracy.\n",
    "\n",
    "**Answer 11:** Overall, the confusion matrix shows that this algorithm makes less false positives and false negatives. First, the sum of entries matrix is the same has the sum of all entries in the previous matrix. This confusion matrix made only 161 false positives where the confusion matrix for the Naive Baye algorithm made 172. This algorithm is better. Additionally, the confusion matrix for the KNN algorithm shows that this model only made 371 false negatives. This is better than than the 485 false negatives in the Naive Bayes algorithm.\n",
    "\n",
    "**Answer 12:** One pro to the KNN algorithm is that it is more accurate than the Naive Bayes algorithm (look at confusion matrix). However, one con of the KNN algorithm is that it takes much longer for the KNN algorithm to run than the Naive Bayes algorithm to the run. KNN took 6 minutes to run! Naive Bayes ran in 5 seconds. It is huge improvement. This shows that Naive Bayes could easily handle larger datasets where as KNN would struggle to run in a short peroid of time.\n",
    "\n",
    "**Answer 13:** This is to ensure that the samples used where randomized. If they weren't, it could be that the samples in an unrandomized subset of all emails could have a higher variance or some anomaly that would yield a prediction that is not representative of the rest of the data."
   ]
  },
  {
   "cell_type": "markdown",
   "metadata": {},
   "source": [
    "## Extensions"
   ]
  },
  {
   "cell_type": "markdown",
   "metadata": {},
   "source": [
    "### 0. Classify your own datasets\n",
    "\n",
    "- Find datasets that you find interesting and run classification on them using your KNN algorithm (and if applicable, Naive Bayes). Analysis the performance of your classifer."
   ]
  },
  {
   "cell_type": "markdown",
   "metadata": {},
   "source": [
    "### 1. Better text preprocessing\n",
    "\n",
    "- If you look at the top words extracted from the email dataset, many of them are common \"stop words\" (e.g. a, the, to, etc.) that do not carry much meaning when it comes to differentiating between spam vs. non-spam email. Improve your preprocessing pipeline by building your top words without stop words. Analyze performance differences."
   ]
  },
  {
   "cell_type": "markdown",
   "metadata": {},
   "source": [
    "### 2. Feature size\n",
    "\n",
    "- Explore how the number of selected features for the email dataset influences accuracy and runtime performance."
   ]
  },
  {
   "cell_type": "markdown",
   "metadata": {},
   "source": [
    "### 3. Distance metrics\n",
    "- Compare KNN performance with the $L^2$ and $L^1$ distance metrics"
   ]
  },
  {
   "cell_type": "markdown",
   "metadata": {},
   "source": [
    "### 4. K-Fold Cross-Validation\n",
    "\n",
    "- Research this technique and apply it to data and your KNN and/or Naive Bayes classifiers."
   ]
  },
  {
   "cell_type": "markdown",
   "metadata": {},
   "source": [
    "**K-Fold Cross-Validation Extension**\n",
    "\n",
    "For this extension, I looked up the algorithm for the K-Fold Cross-Validation. The idea of the algorithm is that given a data set with its samples, I split the data set into k groups with roughly an equal number of samples per group. Then, iterating through each group, the i-th group would become a test data set and the remaining data sets would become the training data set. I would train the model (KNN or Naive Bayes in this case) and measure the performance of the model. Traditionally, MSE is used here. However, I have modified the algorithm to use the `accuracy` function to measure the quality of the model. I thought this information would be more meaningful than computing MSE. I know what accuracy means, but MSE does not provide any meaningful information about the ham/spam emails. Repeat this process for all groups and the result will be a `(M,)` array with accuracy of the model for all groups. Take the average of all accuracy values and that is what is returned by my K-Fold Cross-Validation method (KFCV).\n",
    "\n",
    "The purpose of this algorithm is to check the performance of a model. The interpretation of the results of this algorithm vary based on the metric used to mesure the performance of the model. In this case, accuracy measure performance. The higher the accuracy, the better.\n",
    "\n",
    "I created the algorithm for both KNN and Naive Bayes. Given that KNN takes forever to run on my computer, I tested KNN over a small number of emails. However, it appears that the algorithm does not work correctly on a subset of the data. The same occurs with the Naive Bayes algorithm. I have omitted testing code for the KNN KFCF algorithm for these reasons. However,using the full data set does not yield this error. I was interested in seeing relationship between average accuracy of the data set and the number of $k$. I expected that the average accuracy would increase with $k$ because when $k$ increases, the algorithm will create a larger training data set (more groups means that the size of each group decreases). Therefore, a larger training data set would be more accurate.\n",
    "\n",
    "However, the plot below shows that this is not case. It appears that it doesn't matter the value of $k$, the average accuracy remains constant for the values of $k$ I tested. I suppose that any variances of one groups gets \"washed out\" by the average accuracies of the other groups. This leads to more constant results."
   ]
  },
  {
   "cell_type": "code",
   "execution_count": 79,
   "metadata": {},
   "outputs": [
    {
     "data": {
      "image/png": "[encoded data removed]",
      "text/plain": [
       "<Figure size 432x288 with 1 Axes>"
      ]
     },
     "metadata": {},
     "output_type": "display_data"
    }
   ],
   "source": [
    "# change font size\n",
    "plt.rcParams['font.size'] = '12'\n",
    "\n",
    "# testing k-fold cross validation\n",
    "classifier = NaiveBayes(2)\n",
    "validation = []\n",
    "for i in range(3, 11):\n",
    "    validation.append(classifier.k_fold_cross_validation(features, y, i))\n",
    "    \n",
    "k_values = np.arange(3, 11)\n",
    "validation = np.array(validation)\n",
    "plt.plot(k_values, validation, \"k-\")\n",
    "plt.xticks(k_values)\n",
    "plt.xlabel(\"K Number of Groups\")\n",
    "plt.ylabel(\"Average Accuracy\")\n",
    "plt.yticks(np.arange(0.85, 0.9, 0.01))\n",
    "plt.show()"
   ]
  },
  {
   "cell_type": "code",
   "execution_count": 83,
   "metadata": {},
   "outputs": [],
   "source": [
    "# testing k-fold cross validation\n",
    "kclassifier = KNN(2)\n",
    "k_validation = []\n",
    "for i in range(3, 5):\n",
    "    k_validation.append(kclassifier.k_fold_cross_validation(features, y, 7, i))\n",
    "    \n",
    "kk_values = np.arange(3, 5)\n",
    "plt.plot(kk_values, k_validation, \"k-\")\n",
    "plt.show()"
   ]
  },
  {
   "cell_type": "markdown",
   "metadata": {},
   "source": [
    "### 5. Email error analysis\n",
    "\n",
    "- Dive deeper into the properties of the emails that were misclassified (FP and/or FN) by Naive Bayes or KNN. What is their word composition? How many words were skipped because they were not in the training set? What could plausibly account for the misclassifications?"
   ]
  }
 ],
 "metadata": {
  "kernelspec": {
   "display_name": "Python 3",
   "language": "python",
   "name": "python3"
  },
  "language_info": {
   "codemirror_mode": {
    "name": "ipython",
    "version": 3
   },
   "file_extension": ".py",
   "mimetype": "text/x-python",
   "name": "python",
   "nbconvert_exporter": "python",
   "pygments_lexer": "ipython3",
   "version": "3.9.3"
  }
 },
 "nbformat": 4,
 "nbformat_minor": 2
}
